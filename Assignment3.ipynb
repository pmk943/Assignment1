{
 "cells": [
  {
   "cell_type": "code",
   "execution_count": 3,
   "metadata": {},
   "outputs": [
    {
     "name": "stdout",
     "output_type": "stream",
     "text": [
      "Error Dividing By Zero\n"
     ]
    }
   ],
   "source": [
    "#1\n",
    "try:\n",
    "    x = 5 / 0\n",
    "except:\n",
    "    print(\"Error Dividing By Zero\")\n",
    "\n",
    "    \n",
    "    \n",
    "    "
   ]
  },
  {
   "cell_type": "code",
   "execution_count": 13,
   "metadata": {},
   "outputs": [
    {
     "name": "stdout",
     "output_type": "stream",
     "text": [
      "Americans Play  Baseball\n",
      "Americans Play  cricket\n",
      "Americans watch  Baseball\n",
      "Americans watch  cricket\n",
      "Indians Play  Baseball\n",
      "Indians Play  cricket\n",
      "Indians watch  Baseball\n",
      "Indians watch  cricket\n"
     ]
    }
   ],
   "source": [
    "'''2 Implement a Python program to generate all sentences where subject is in '''\n",
    "sub=[\"Americans\",\"Indians\"]\n",
    "verb=[\"Play\", \"watch\"]\n",
    "obj=[\"Baseball\",\"cricket\"]\n",
    "res=[su+\" \"+ver+\" \"+\" \"+ob for su in sub for ver in verb for ob in obj]\n",
    "for i in res:\n",
    "    print(i)"
   ]
  },
  {
   "cell_type": "code",
   "execution_count": 18,
   "metadata": {},
   "outputs": [
    {
     "name": "stdout",
     "output_type": "stream",
     "text": [
      "[[ 1  1  1]\n",
      " [ 4  2  1]\n",
      " [ 9  3  1]\n",
      " [25  5  1]]\n"
     ]
    }
   ],
   "source": [
    "'Task 2 , 1'\n",
    "import numpy as np\n",
    "x = np.array([1, 2, 3, 5])\n",
    "N = 3\n",
    "print(np.vander(x, N))"
   ]
  },
  {
   "cell_type": "code",
   "execution_count": null,
   "metadata": {},
   "outputs": [],
   "source": []
  }
 ],
 "metadata": {
  "kernelspec": {
   "display_name": "Python 3",
   "language": "python",
   "name": "python3"
  },
  "language_info": {
   "codemirror_mode": {
    "name": "ipython",
    "version": 3
   },
   "file_extension": ".py",
   "mimetype": "text/x-python",
   "name": "python",
   "nbconvert_exporter": "python",
   "pygments_lexer": "ipython3",
   "version": "3.7.1"
  }
 },
 "nbformat": 4,
 "nbformat_minor": 2
}
