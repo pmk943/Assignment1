{
 "cells": [
  {
   "cell_type": "code",
   "execution_count": 1,
   "metadata": {},
   "outputs": [],
   "source": [
    "'''1.1 Write a Python Program to implement your own myreduce() function which works exactly like\n",
    "Python's built-in function reduce()\n",
    "'''\n",
    "def myreduce(funcname,itera):\n",
    "    leng=len(itera)\n",
    "    init=itera[0]\n",
    "    if leng==0:\n",
    "        print(\"Enter proper list and try again\")\n",
    "    elif leng ==1:\n",
    "        return itera\n",
    "    else:\n",
    "        for i in range (1,leng):\n",
    "            init=funcname(init,itera[i])\n",
    "        return init\n",
    "#Testing myreduce function \n",
    "lis=range(20)\n",
    "output_1=myreduce(lambda x,y:x+y,lis)\n",
    "print(output_1)"
   ]
  },
  {
   "cell_type": "code",
   "execution_count": 2,
   "metadata": {},
   "outputs": [
    {
     "name": "stdout",
     "output_type": "stream",
     "text": [
      "[0, 2, 4, 6, 8, 10, 12, 14, 16, 18]\n"
     ]
    }
   ],
   "source": [
    "'''1.2 Write a Python program to implement your own myfilter() function which works exactly like\n",
    "Python's built-in function filter()'''\n",
    "def myfilter(funcname, itera):\n",
    "    \n",
    "\n",
    " result = []\n",
    "\n",
    " for item in itera:\n",
    "  if funcname(item):\n",
    "   result.append(item)\n",
    "\n",
    " return result\n",
    "#Testing myfilter function \n",
    "lis=range(20)\n",
    "output_2=myfilter(lambda x:(x%2==0),lis)\n",
    "print(output_2)"
   ]
  },
  {
   "cell_type": "code",
   "execution_count": 3,
   "metadata": {},
   "outputs": [
    {
     "name": "stdout",
     "output_type": "stream",
     "text": [
      "['A', 'C', 'A', 'G', 'I', 'L', 'D']\n",
      "['x', 'xx', 'xxx', 'xxxx', 'y', 'yy', 'yyy', 'yyyy', 'z', 'zz', 'zzz', 'zzzz']\n",
      "['x', 'y', 'z', 'xx', 'yy', 'zz', 'xxx', 'yyy', 'zzz', 'xxxx', 'yyyy', 'zzzz']\n",
      "[[2], [3], [4], [3], [4], [5], [4], [5], [6]]\n",
      "[[2, 3, 4, 5], [3, 4, 5, 6], [4, 5, 6, 7], [5, 6, 7, 8]]\n",
      "[(1, 1), (2, 1), (3, 1), (1, 2), (2, 2), (3, 2), (1, 3), (2, 3), (3, 3)]\n"
     ]
    }
   ],
   "source": [
    "#2 Write List comprehensions to produce the following Lists\n",
    "\n",
    "print([i for i in \"ACAGILD\"])\n",
    "print([x*i for i in 'xyz' for x in range(1,5) ])\n",
    "print([x*i for i in range(1,5) for x in 'xyz' ])\n",
    "print([[i+x] for x in range(1,4) for i in range(1,4)])\n",
    "matrix=[[2,3,4,5],[3,4,5,6],[4,5,6,7],[5,6,7,8]]\n",
    "print([i for i in matrix])\n",
    "print([(x,i) for i in range(1,4) for x in range (1,4)])\n"
   ]
  },
  {
   "cell_type": "code",
   "execution_count": 4,
   "metadata": {},
   "outputs": [
    {
     "data": {
      "text/plain": [
       "'efg'"
      ]
     },
     "execution_count": 4,
     "metadata": {},
     "output_type": "execute_result"
    }
   ],
   "source": [
    "#3 Implement a function longestWord() that takes a list of words and returns the longest one.\n",
    "\n",
    "def longestword(list_of_wrds):\n",
    "    longest=list_of_wrds[0]\n",
    "    for i in range(1,len(list_of_wrds)):\n",
    "        if len(longest)<len(list_of_wrds[i]):\n",
    "            longest=list_of_wrds[i]\n",
    "    return longest\n",
    "#Calling function\n",
    "longestword(['a','bc','d','efg'])"
   ]
  },
  {
   "cell_type": "markdown",
   "metadata": {},
   "source": [
    "# Task 2"
   ]
  },
  {
   "cell_type": "code",
   "execution_count": 5,
   "metadata": {},
   "outputs": [
    {
     "name": "stdout",
     "output_type": "stream",
     "text": [
      "35.23250599960705\n"
     ]
    }
   ],
   "source": [
    "#1.1\n",
    "class Area_of_traingle:\n",
    "    \n",
    "    def __init__(self,a,b,c) :\n",
    "        self.a=a\n",
    "        self.b=b\n",
    "        self.c=c\n",
    "        \n",
    "        \n",
    "    \n",
    "#     def area(self):\n",
    "#         s=(self.a+self.b+self.c)/3\n",
    "#         return ((s*(s-self.a)*(s-self.b)*(s-self.c)) ** 0.5)\n",
    "    \n",
    "    def __str__(self):\n",
    "        s=(self.a+self.b+self.c)/3\n",
    "        return(str((s*(s-self.a)*(s-self.b)*(s-self.c)) ** 0.5))\n",
    "    \n",
    "        \n",
    "print(Area_of_traingle(20,14.3,4))  "
   ]
  },
  {
   "cell_type": "code",
   "execution_count": 6,
   "metadata": {},
   "outputs": [
    {
     "name": "stdout",
     "output_type": "stream",
     "text": [
      "['brave', 'ktc']\n"
     ]
    }
   ],
   "source": [
    "# 1.2 Write a function filter_long_words() that takes a list of words and an integer n and returns the list\n",
    "# of words that are longer than n.\n",
    "\n",
    "def filter_long_words(lis,num):\n",
    "    lis2=[]\n",
    "    for i in lis:\n",
    "        if len(i)>num:\n",
    "            lis2.append(i)\n",
    "    return lis2\n",
    "#testing\n",
    "res=filter_long_words(['i','am','a','brave','an','ktc'],2)\n",
    "print(res)\n",
    "    \n"
   ]
  },
  {
   "cell_type": "code",
   "execution_count": 7,
   "metadata": {},
   "outputs": [
    {
     "name": "stdout",
     "output_type": "stream",
     "text": [
      "[1, 2, 7, 3]\n"
     ]
    }
   ],
   "source": [
    "'''2.1 Write a Python program using function concept that maps list of words into a list of integers\n",
    "representing the lengths of the corresponding words.\n",
    "'''\n",
    "def change_lst_integers(lis):\n",
    "    lis2=[]\n",
    "    for i in range(len(lis)):\n",
    "        lis[i]=len(lis[i])\n",
    "           \n",
    "    return lis\n",
    "\n",
    "#Testing\n",
    "print(change_lst_integers(['i','am','testing','you']))\n"
   ]
  },
  {
   "cell_type": "code",
   "execution_count": 8,
   "metadata": {},
   "outputs": [
    {
     "name": "stdout",
     "output_type": "stream",
     "text": [
      "False\n",
      "True\n"
     ]
    }
   ],
   "source": [
    "'''2.2 Write a Python function which takes a character (i.e. a string of length 1) and returns True if it is\n",
    "a vowel, False otherwise.\n",
    "'''\n",
    "def is_cha_vowel(cha):\n",
    "    vowels = ('a', 'e', 'i', 'o', 'u')\n",
    "    cha.lower()\n",
    "    if cha not in vowels:\n",
    "        return False\n",
    "    return True\n",
    "\n",
    "#Testing\n",
    "print(is_cha_vowel('J'))\n",
    "print(is_cha_vowel('a'))"
   ]
  },
  {
   "cell_type": "raw",
   "metadata": {},
   "source": []
  },
  {
   "cell_type": "code",
   "execution_count": null,
   "metadata": {},
   "outputs": [],
   "source": []
  },
  {
   "cell_type": "code",
   "execution_count": null,
   "metadata": {},
   "outputs": [],
   "source": []
  }
 ],
 "metadata": {
  "kernelspec": {
   "display_name": "Python 3",
   "language": "python",
   "name": "python3"
  },
  "language_info": {
   "codemirror_mode": {
    "name": "ipython",
    "version": 3
   },
   "file_extension": ".py",
   "mimetype": "text/x-python",
   "name": "python",
   "nbconvert_exporter": "python",
   "pygments_lexer": "ipython3",
   "version": "3.7.1"
  }
 },
 "nbformat": 4,
 "nbformat_minor": 2
}
